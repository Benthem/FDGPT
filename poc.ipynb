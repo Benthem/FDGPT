{
 "cells": [
  {
   "cell_type": "code",
   "execution_count": 20,
   "metadata": {},
   "outputs": [
    {
     "data": {
      "text/plain": [
       "<module 'Graphstuff' from 'D:\\\\Dropbox\\\\Studie\\\\2018-2019\\\\Q3\\\\VCP\\\\VCP\\\\Graphstuff.py'>"
      ]
     },
     "execution_count": 20,
     "metadata": {},
     "output_type": "execute_result"
    }
   ],
   "source": [
    "import Graphstuff as G\n",
    "import importlib\n",
    "import arcade\n",
    "importlib.reload(Graphstuff)"
   ]
  },
  {
   "cell_type": "code",
   "execution_count": 29,
   "metadata": {},
   "outputs": [],
   "source": [
    "with open('sometree.in', 'r') as f:\n",
    "    s = f.read().split('\\n')\n",
    "    n = int(s.pop(0))\n",
    "    nodes = [G.Node() for i in range(n)]\n",
    "    root = nodes[0]\n",
    "    for i in range(n):\n",
    "        l = s.pop(0).split()\n",
    "        \n",
    "        nodes[i].data = l.pop(0)\n",
    "        for j in range(int(l.pop(0))):\n",
    "            nodes[i].addChild(nodes[int(l.pop(0))])"
   ]
  },
  {
   "cell_type": "code",
   "execution_count": 32,
   "metadata": {},
   "outputs": [
    {
     "name": "stdout",
     "output_type": "stream",
     "text": [
      "test\n"
     ]
    }
   ],
   "source": [
    "#start at root\n",
    "def func():\n",
    "  print('test')"
   ]
  },
  {
   "cell_type": "code",
   "execution_count": 26,
   "metadata": {},
   "outputs": [],
   "source": [
    "SCREEN_HEIGHT = 500\n",
    "SCREEN_WIDTH  = 500\n",
    "SCREEN_TITLE = \"500\"\n",
    "\n",
    "class MyGame(arcade.Window):\n",
    "\n",
    "    def __init__(self, width, height, title):\n",
    "        # Call the parent class's init function\n",
    "        super().__init__(width, height, title)\n",
    "\n",
    "        # Make the mouse disappear when it is over the window.\n",
    "        # So we just see our object, not the pointer.\n",
    "        #self.set_mouse_visible(True)\n",
    "\n",
    "        arcade.set_background_color(arcade.color.WHITE)\n",
    "\n",
    "\n",
    "    def on_draw(self):\n",
    "        \"\"\" Called whenever we need to draw the window. \"\"\"\n",
    "        arcade.start_render()\n",
    "\n",
    "    def on_mouse_press(self, x, y, button, modifiers):\n",
    "        arcade.set_background_color(arcade.color.RED)\n",
    "        \n",
    "    def on_mouse_release(self, x, y, button, modifiers):\n",
    "        arcade.set_background_color(arcade.color.WHITE)\n",
    "\n",
    "def main():\n",
    "    window = MyGame(SCREEN_WIDTH, SCREEN_HEIGHT, SCREEN_TITLE)\n",
    "    arcade.run()\n",
    "\n",
    "\n",
    "if __name__ == \"__main__\":\n",
    "    main()"
   ]
  },
  {
   "cell_type": "code",
   "execution_count": null,
   "metadata": {},
   "outputs": [],
   "source": []
  }
 ],
 "metadata": {
  "kernelspec": {
   "display_name": "Python 3",
   "language": "python",
   "name": "python3"
  },
  "language_info": {
   "codemirror_mode": {
    "name": "ipython",
    "version": 3
   },
   "file_extension": ".py",
   "mimetype": "text/x-python",
   "name": "python",
   "nbconvert_exporter": "python",
   "pygments_lexer": "ipython3",
   "version": "3.6.5"
  }
 },
 "nbformat": 4,
 "nbformat_minor": 2
}
